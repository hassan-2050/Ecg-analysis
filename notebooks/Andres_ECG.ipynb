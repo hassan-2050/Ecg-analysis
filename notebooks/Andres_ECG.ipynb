{
  "nbformat": 4,
  "nbformat_minor": 0,
  "metadata": {
    "colab": {
      "name": "Andres_ECG.ipynb",
      "provenance": [],
      "collapsed_sections": []
    },
    "kernelspec": {
      "name": "python3",
      "display_name": "Python 3"
    },
    "language_info": {
      "name": "python"
    }
  },
  "cells": [
    {
      "cell_type": "code",
      "metadata": {
        "colab": {
          "base_uri": "https://localhost:8080/"
        },
        "id": "NYRPFkp2oLjL",
        "outputId": "93375c95-fa15-4e51-e954-3bcd8519bb87"
      },
      "source": [
        "#https://github.com/fernandoandreotti/cinc-challenge2017"
      ],
      "execution_count": null,
      "outputs": [
        {
          "output_type": "execute_result",
          "data": {
            "text/plain": [
              "63"
            ]
          },
          "metadata": {},
          "execution_count": 51
        }
      ]
    },
    {
      "cell_type": "code",
      "metadata": {
        "colab": {
          "base_uri": "https://localhost:8080/"
        },
        "id": "61H60Hysl6Dz",
        "outputId": "8b5b8055-7637-4725-b700-3990825ce783"
      },
      "source": [
        "#from google.colab import drive\n",
        "#drive.mount('/content/drive')"
      ],
      "execution_count": null,
      "outputs": [
        {
          "output_type": "stream",
          "name": "stdout",
          "text": [
            "Mounted at /content/drive\n"
          ]
        }
      ]
    },
    {
      "cell_type": "code",
      "metadata": {
        "colab": {
          "base_uri": "https://localhost:8080/"
        },
        "id": "ag0AokhpmCj6",
        "outputId": "643ac67c-dcec-40b1-eddd-0450c1a46128"
      },
      "source": [
        "#cd \"/content/drive/MyDrive/Colab Notebooks/ECG\"\n"
      ],
      "execution_count": null,
      "outputs": [
        {
          "output_type": "stream",
          "name": "stdout",
          "text": [
            "/content/drive/MyDrive/Colab Notebooks/ECG\n"
          ]
        }
      ]
    },
    {
      "cell_type": "code",
      "metadata": {
        "id": "vHiSeScKUAaC"
      },
      "source": [
        "# Common imports \n",
        "import os\n",
        "import numpy as np\n",
        "import pandas as pd\n",
        "#to unzip files: with ZipFile('sampleDir.zip', 'r') as zipObj: zipObj.extractall('temp')\n",
        "import zipfile as zp\n",
        "#Visualization\n",
        "import seaborn as sns\n",
        "import matplotlib.pyplot as plt"
      ],
      "execution_count": null,
      "outputs": []
    },
    {
      "cell_type": "code",
      "metadata": {
        "id": "Vlkuw63YcbKF",
        "colab": {
          "base_uri": "https://localhost:8080/"
        },
        "outputId": "b0108fed-9573-4754-fa9b-c3ab02a6c08f"
      },
      "source": [
        "#gdown is useful to download files from public files in Google Drive. --id is the id of the file\n",
        "!gdown --id 1j7Yk0-W9uonQiyyG2B9ZAw5jjZA-UeMS"
      ],
      "execution_count": null,
      "outputs": [
        {
          "output_type": "stream",
          "name": "stdout",
          "text": [
            "Downloading...\n",
            "From: https://drive.google.com/uc?id=1j7Yk0-W9uonQiyyG2B9ZAw5jjZA-UeMS\n",
            "To: /content/drive/MyDrive/Colab Notebooks/ECG/challenge2017.pkl\n",
            "100% 167M/167M [00:01<00:00, 102MB/s] \n"
          ]
        }
      ]
    },
    {
      "cell_type": "code",
      "metadata": {
        "id": "eKN22RMAAHfC"
      },
      "source": [
        "import pickle\n",
        "data_dict = pickle.load(open(\"challenge2017.pkl\",\"rb\"))"
      ],
      "execution_count": null,
      "outputs": []
    },
    {
      "cell_type": "code",
      "metadata": {
        "colab": {
          "base_uri": "https://localhost:8080/"
        },
        "id": "SvbltRQBCQe3",
        "outputId": "fd1122f6-e63f-4754-e3ee-beb8009ecf96"
      },
      "source": [
        "print(data_dict[\"data\"][0])"
      ],
      "execution_count": null,
      "outputs": [
        {
          "output_type": "stream",
          "name": "stdout",
          "text": [
            "[-127 -162 -197 ...  -18  -22  -21]\n"
          ]
        }
      ]
    },
    {
      "cell_type": "code",
      "metadata": {
        "colab": {
          "base_uri": "https://localhost:8080/",
          "height": 419
        },
        "id": "JfqVJNGt_smj",
        "outputId": "0a0febfe-7c96-4cfc-ab08-f02fe7b3a52d"
      },
      "source": [
        "data = data_dict[\"data\"]\n",
        "labels = data_dict['label']\n",
        "df = pd.DataFrame(data,columns=[\"ts\"])\\\n",
        "      .assign(label = pd.Series(labels).replace({\"N\":\"Normal\",\"A\":\"Atrial Fibrillation\",\"O\":\"Other Rhythm\",\"~\":\"Noise\"}))\n",
        "df"
      ],
      "execution_count": null,
      "outputs": [
        {
          "output_type": "execute_result",
          "data": {
            "text/html": [
              "<div>\n",
              "<style scoped>\n",
              "    .dataframe tbody tr th:only-of-type {\n",
              "        vertical-align: middle;\n",
              "    }\n",
              "\n",
              "    .dataframe tbody tr th {\n",
              "        vertical-align: top;\n",
              "    }\n",
              "\n",
              "    .dataframe thead th {\n",
              "        text-align: right;\n",
              "    }\n",
              "</style>\n",
              "<table border=\"1\" class=\"dataframe\">\n",
              "  <thead>\n",
              "    <tr style=\"text-align: right;\">\n",
              "      <th></th>\n",
              "      <th>ts</th>\n",
              "      <th>label</th>\n",
              "    </tr>\n",
              "  </thead>\n",
              "  <tbody>\n",
              "    <tr>\n",
              "      <th>0</th>\n",
              "      <td>[-127, -162, -197, -229, -245, -254, -261, -26...</td>\n",
              "      <td>Normal</td>\n",
              "    </tr>\n",
              "    <tr>\n",
              "      <th>1</th>\n",
              "      <td>[128, 157, 189, 226, 250, 257, 262, 265, 268, ...</td>\n",
              "      <td>Normal</td>\n",
              "    </tr>\n",
              "    <tr>\n",
              "      <th>2</th>\n",
              "      <td>[56, 73, 85, 93, 100, 107, 113, 117, 118, 117,...</td>\n",
              "      <td>Normal</td>\n",
              "    </tr>\n",
              "    <tr>\n",
              "      <th>3</th>\n",
              "      <td>[519, 619, 723, 827, 914, 956, 955, 934, 920, ...</td>\n",
              "      <td>Atrial Fibrillation</td>\n",
              "    </tr>\n",
              "    <tr>\n",
              "      <th>4</th>\n",
              "      <td>[-188, -239, -274, -316, -356, -374, -380, -38...</td>\n",
              "      <td>Atrial Fibrillation</td>\n",
              "    </tr>\n",
              "    <tr>\n",
              "      <th>...</th>\n",
              "      <td>...</td>\n",
              "      <td>...</td>\n",
              "    </tr>\n",
              "    <tr>\n",
              "      <th>8523</th>\n",
              "      <td>[-104, -127, -144, -154, -160, -164, -168, -17...</td>\n",
              "      <td>Normal</td>\n",
              "    </tr>\n",
              "    <tr>\n",
              "      <th>8524</th>\n",
              "      <td>[-121, -197, -288, -390, -496, -600, -693, -77...</td>\n",
              "      <td>Other Rhythm</td>\n",
              "    </tr>\n",
              "    <tr>\n",
              "      <th>8525</th>\n",
              "      <td>[-202, -235, -272, -305, -325, -339, -344, -34...</td>\n",
              "      <td>Normal</td>\n",
              "    </tr>\n",
              "    <tr>\n",
              "      <th>8526</th>\n",
              "      <td>[-227, -297, -374, -449, -505, -527, -539, -54...</td>\n",
              "      <td>Normal</td>\n",
              "    </tr>\n",
              "    <tr>\n",
              "      <th>8527</th>\n",
              "      <td>[-237, -286, -338, -390, -425, -437, -443, -44...</td>\n",
              "      <td>Normal</td>\n",
              "    </tr>\n",
              "  </tbody>\n",
              "</table>\n",
              "<p>8528 rows × 2 columns</p>\n",
              "</div>"
            ],
            "text/plain": [
              "                                                     ts                label\n",
              "0     [-127, -162, -197, -229, -245, -254, -261, -26...               Normal\n",
              "1     [128, 157, 189, 226, 250, 257, 262, 265, 268, ...               Normal\n",
              "2     [56, 73, 85, 93, 100, 107, 113, 117, 118, 117,...               Normal\n",
              "3     [519, 619, 723, 827, 914, 956, 955, 934, 920, ...  Atrial Fibrillation\n",
              "4     [-188, -239, -274, -316, -356, -374, -380, -38...  Atrial Fibrillation\n",
              "...                                                 ...                  ...\n",
              "8523  [-104, -127, -144, -154, -160, -164, -168, -17...               Normal\n",
              "8524  [-121, -197, -288, -390, -496, -600, -693, -77...         Other Rhythm\n",
              "8525  [-202, -235, -272, -305, -325, -339, -344, -34...               Normal\n",
              "8526  [-227, -297, -374, -449, -505, -527, -539, -54...               Normal\n",
              "8527  [-237, -286, -338, -390, -425, -437, -443, -44...               Normal\n",
              "\n",
              "[8528 rows x 2 columns]"
            ]
          },
          "metadata": {},
          "execution_count": 7
        }
      ]
    },
    {
      "cell_type": "code",
      "metadata": {
        "id": "DCSbeH6wg8UQ"
      },
      "source": [
        "FS = 300\n",
        "maxlen = 30*FS\n",
        "\n",
        "def preprocessing(data):\n",
        "  #np.concatenate(df[\"ts\"]).ravel().tolist())\n",
        "  data = np.array([data])\n",
        "  X = np.zeros((1,maxlen))\n",
        "  data = np.nan_to_num(data) # removing NaNs and Infs\n",
        "  data = data[0,0:maxlen]\n",
        "  data = data - np.mean(data)\n",
        "  data = data/np.std(data)\n",
        "  X[0,:len(data)] = data.T # padding sequence\n",
        "  data = X\n",
        "  data = np.expand_dims(data, axis=2)\n",
        "  return data\n",
        "\n",
        "df['ts'] = df['ts'].apply(lambda x: preprocessing(x))"
      ],
      "execution_count": null,
      "outputs": []
    },
    {
      "cell_type": "code",
      "metadata": {
        "id": "47cxbRhPgGJW",
        "colab": {
          "base_uri": "https://localhost:8080/",
          "height": 419
        },
        "outputId": "c95142e9-a38e-44ee-9830-edcca550fe82"
      },
      "source": [
        "display(df)"
      ],
      "execution_count": null,
      "outputs": [
        {
          "output_type": "display_data",
          "data": {
            "text/html": [
              "<div>\n",
              "<style scoped>\n",
              "    .dataframe tbody tr th:only-of-type {\n",
              "        vertical-align: middle;\n",
              "    }\n",
              "\n",
              "    .dataframe tbody tr th {\n",
              "        vertical-align: top;\n",
              "    }\n",
              "\n",
              "    .dataframe thead th {\n",
              "        text-align: right;\n",
              "    }\n",
              "</style>\n",
              "<table border=\"1\" class=\"dataframe\">\n",
              "  <thead>\n",
              "    <tr style=\"text-align: right;\">\n",
              "      <th></th>\n",
              "      <th>ts</th>\n",
              "      <th>label</th>\n",
              "    </tr>\n",
              "  </thead>\n",
              "  <tbody>\n",
              "    <tr>\n",
              "      <th>0</th>\n",
              "      <td>[[[-0.8648478526564592], [-1.072787609234484],...</td>\n",
              "      <td>Normal</td>\n",
              "    </tr>\n",
              "    <tr>\n",
              "      <th>1</th>\n",
              "      <td>[[[0.6043533556477505], [0.7685191341883563], ...</td>\n",
              "      <td>Normal</td>\n",
              "    </tr>\n",
              "    <tr>\n",
              "      <th>2</th>\n",
              "      <td>[[[0.35378472457266574], [0.45487683495531683]...</td>\n",
              "      <td>Normal</td>\n",
              "    </tr>\n",
              "    <tr>\n",
              "      <th>3</th>\n",
              "      <td>[[[2.239756323370247], [2.707878450360614], [3...</td>\n",
              "      <td>Atrial Fibrillation</td>\n",
              "    </tr>\n",
              "    <tr>\n",
              "      <th>4</th>\n",
              "      <td>[[[-0.9897166782739075], [-1.22892495258504], ...</td>\n",
              "      <td>Atrial Fibrillation</td>\n",
              "    </tr>\n",
              "    <tr>\n",
              "      <th>...</th>\n",
              "      <td>...</td>\n",
              "      <td>...</td>\n",
              "    </tr>\n",
              "    <tr>\n",
              "      <th>8523</th>\n",
              "      <td>[[[-1.8868172106680006], [-2.2717874413895096]...</td>\n",
              "      <td>Normal</td>\n",
              "    </tr>\n",
              "    <tr>\n",
              "      <th>8524</th>\n",
              "      <td>[[[-0.17081191745581825], [-0.4113088865048658...</td>\n",
              "      <td>Other Rhythm</td>\n",
              "    </tr>\n",
              "    <tr>\n",
              "      <th>8525</th>\n",
              "      <td>[[[-1.3389800883138374], [-1.5442797187476396]...</td>\n",
              "      <td>Normal</td>\n",
              "    </tr>\n",
              "    <tr>\n",
              "      <th>8526</th>\n",
              "      <td>[[[-1.1545601145951963], [-1.5064293735015712]...</td>\n",
              "      <td>Normal</td>\n",
              "    </tr>\n",
              "    <tr>\n",
              "      <th>8527</th>\n",
              "      <td>[[[-1.7532085290519261], [-2.119456726652967],...</td>\n",
              "      <td>Normal</td>\n",
              "    </tr>\n",
              "  </tbody>\n",
              "</table>\n",
              "<p>8528 rows × 2 columns</p>\n",
              "</div>"
            ],
            "text/plain": [
              "                                                     ts                label\n",
              "0     [[[-0.8648478526564592], [-1.072787609234484],...               Normal\n",
              "1     [[[0.6043533556477505], [0.7685191341883563], ...               Normal\n",
              "2     [[[0.35378472457266574], [0.45487683495531683]...               Normal\n",
              "3     [[[2.239756323370247], [2.707878450360614], [3...  Atrial Fibrillation\n",
              "4     [[[-0.9897166782739075], [-1.22892495258504], ...  Atrial Fibrillation\n",
              "...                                                 ...                  ...\n",
              "8523  [[[-1.8868172106680006], [-2.2717874413895096]...               Normal\n",
              "8524  [[[-0.17081191745581825], [-0.4113088865048658...         Other Rhythm\n",
              "8525  [[[-1.3389800883138374], [-1.5442797187476396]...               Normal\n",
              "8526  [[[-1.1545601145951963], [-1.5064293735015712]...               Normal\n",
              "8527  [[[-1.7532085290519261], [-2.119456726652967],...               Normal\n",
              "\n",
              "[8528 rows x 2 columns]"
            ]
          },
          "metadata": {}
        }
      ]
    },
    {
      "cell_type": "code",
      "metadata": {
        "colab": {
          "base_uri": "https://localhost:8080/"
        },
        "id": "J1LHrTTjLhkr",
        "outputId": "e3337d78-4b75-4510-ac65-420ab79b88c4"
      },
      "source": [
        "from keras.models import load_model\n",
        "model = load_model('ResNet_30s_34lay_16conv.hdf5')\n",
        "\n",
        "classes = ['Atrial Fibrillation', 'Normal', 'Other Rhythm','Noise']\n",
        "\n",
        "confusion_matrix = {\n",
        "    'Atrial Fibrillation': [0, 0, 0, 0],\n",
        "    'Normal': [0, 0, 0, 0],\n",
        "    'Other Rhythm': [0, 0, 0, 0],\n",
        "    'Noise': [0, 0, 0, 0]\n",
        "    \n",
        "}\n",
        "\n",
        "for i in range(len(df)):   \n",
        "  prob = model.predict(df[\"ts\"][i])\n",
        "  ann = np.argmax(prob)\n",
        "  true_target = df[\"label\"][i]\n",
        "  #print(true_target,ann)\n",
        "\n",
        "  confusion_matrix[true_target][ann] += 1\n",
        "\n",
        "  #print(\"Record {} classified as {} with {:3.1f}% certainty. True: {}\".format(i,classes[ann],100*prob[0,ann],df[\"label\"][i]))\n",
        "\n",
        "\n",
        "confusion_matrix = pd.DataFrame(confusion_matrix,index = classes)\n",
        "confusion_matrix.columns = [i + \" T\" for i in classes]\n",
        "print(confusion_matrix)"
      ],
      "execution_count": null,
      "outputs": [
        {
          "output_type": "stream",
          "name": "stdout",
          "text": [
            "WARNING:tensorflow:Error in loading the saved optimizer state. As a result, your model is starting with a freshly initialized optimizer.\n",
            "                     Atrial Fibrillation T  Normal T  Other Rhythm T  Noise T\n",
            "Atrial Fibrillation                    447        23             162        3\n",
            "Normal                                  18      3886             468        3\n",
            "Other Rhythm                           204       504            1488       13\n",
            "Noise                                   89       663             297      260\n"
          ]
        }
      ]
    },
    {
      "cell_type": "code",
      "metadata": {
        "colab": {
          "base_uri": "https://localhost:8080/"
        },
        "id": "axzWQWWMxWGG",
        "outputId": "4485a65d-feb2-42cf-d7ce-4c4d2e012970"
      },
      "source": [
        "accuracy = sum([confusion_matrix.iloc[i,i] for i in range(4)])/len(df)\n",
        "print(f\"Total accuracy of {round(accuracy*100,2)}%\")"
      ],
      "execution_count": null,
      "outputs": [
        {
          "output_type": "stream",
          "name": "stdout",
          "text": [
            "Total accuracy of 71.31%\n"
          ]
        }
      ]
    },
    {
      "cell_type": "code",
      "metadata": {
        "id": "z7M1P-LL_Wfi"
      },
      "source": [
        "!pip install streamlit"
      ],
      "execution_count": null,
      "outputs": []
    },
    {
      "cell_type": "code",
      "metadata": {
        "id": "bc-sefFs9V93"
      },
      "source": [
        "import streamlit as st\n",
        "import pandas as pd\n",
        "from sklearn import datasets\n",
        "from sklearn.ensemble import RandomForestClassifier\n",
        "\n",
        "st.write(\"\"\"\n",
        "# Simple Iris Flower Prediction App\n",
        "This app predicts the **Iris flower** type!\n",
        "\"\"\")\n",
        "\n",
        "st.sidebar.header('User Input Parameters')\n",
        "\n",
        "def user_input_features():\n",
        "    sepal_length = st.sidebar.slider('Sepal length', 4.3, 7.9, 5.4)\n",
        "    sepal_width = st.sidebar.slider('Sepal width', 2.0, 4.4, 3.4)\n",
        "    petal_length = st.sidebar.slider('Petal length', 1.0, 6.9, 1.3)\n",
        "    petal_width = st.sidebar.slider('Petal width', 0.1, 2.5, 0.2)\n",
        "    data = {'sepal_length': sepal_length,\n",
        "            'sepal_width': sepal_width,\n",
        "            'petal_length': petal_length,\n",
        "            'petal_width': petal_width}\n",
        "    features = pd.DataFrame(data, index=[0])\n",
        "    return features\n",
        "\n",
        "df = user_input_features()\n",
        "\n",
        "st.subheader('User Input parameters')\n",
        "st.write(df)\n",
        "\n",
        "iris = datasets.load_iris()\n",
        "X = iris.data\n",
        "Y = iris.target\n",
        "\n",
        "clf = RandomForestClassifier()\n",
        "clf.fit(X, Y)\n",
        "\n",
        "prediction = clf.predict(df)\n",
        "prediction_proba = clf.predict_proba(df)\n",
        "\n",
        "st.subheader('Class labels and their corresponding index number')\n",
        "st.write(iris.target_names)\n",
        "\n",
        "st.subheader('Prediction')\n",
        "st.write(iris.target_names[prediction])\n",
        "#st.write(prediction)\n",
        "\n",
        "st.subheader('Prediction Probability')\n",
        "st.write(prediction_proba)"
      ],
      "execution_count": null,
      "outputs": []
    }
  ]
}