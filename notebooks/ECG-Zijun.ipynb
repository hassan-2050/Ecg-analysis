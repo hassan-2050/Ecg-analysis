{
  "nbformat": 4,
  "nbformat_minor": 0,
  "metadata": {
    "colab": {
      "name": "ECG.ipynb",
      "provenance": [],
      "collapsed_sections": []
    },
    "kernelspec": {
      "name": "python3",
      "display_name": "Python 3"
    },
    "language_info": {
      "name": "python"
    },
    "accelerator": "GPU"
  },
  "cells": [
    {
      "cell_type": "markdown",
      "metadata": {
        "id": "m9VSIuvzYcie"
      },
      "source": [
        "###Retrain\n"
      ]
    },
    {
      "cell_type": "code",
      "metadata": {
        "colab": {
          "base_uri": "https://localhost:8080/"
        },
        "id": "NYRPFkp2oLjL",
        "outputId": "ff6eedf2-9c70-4603-f557-ae64e636f70e"
      },
      "source": [
        "#!git clone https://github.com/fernandoandreotti/cinc-challenge2017"
      ],
      "execution_count": null,
      "outputs": [
        {
          "output_type": "stream",
          "name": "stdout",
          "text": [
            "Cloning into 'cinc-challenge2017'...\n",
            "remote: Enumerating objects: 632, done.\u001b[K\n",
            "remote: Total 632 (delta 0), reused 0 (delta 0), pack-reused 632\u001b[K\n",
            "Receiving objects: 100% (632/632), 20.53 MiB | 5.13 MiB/s, done.\n",
            "Resolving deltas: 100% (308/308), done.\n"
          ]
        }
      ]
    },
    {
      "cell_type": "code",
      "metadata": {
        "colab": {
          "base_uri": "https://localhost:8080/"
        },
        "id": "8cfvuAzlhVft",
        "outputId": "34425a34-0805-470c-833a-09d4a550a74e"
      },
      "source": [
        "ls"
      ],
      "execution_count": null,
      "outputs": [
        {
          "output_type": "stream",
          "name": "stdout",
          "text": [
            "\u001b[0m\u001b[01;34mcinc-challenge2017\u001b[0m/  \u001b[01;34mdrive\u001b[0m/  \u001b[01;34msample_data\u001b[0m/\n"
          ]
        }
      ]
    },
    {
      "cell_type": "code",
      "metadata": {
        "colab": {
          "base_uri": "https://localhost:8080/"
        },
        "id": "61H60Hysl6Dz",
        "outputId": "9cbd403b-a490-445a-8646-f039c43e28c4"
      },
      "source": [
        "from google.colab import drive\n",
        "drive.mount('/content/drive')"
      ],
      "execution_count": null,
      "outputs": [
        {
          "output_type": "stream",
          "name": "stdout",
          "text": [
            "Drive already mounted at /content/drive; to attempt to forcibly remount, call drive.mount(\"/content/drive\", force_remount=True).\n"
          ]
        }
      ]
    },
    {
      "cell_type": "code",
      "metadata": {
        "colab": {
          "base_uri": "https://localhost:8080/"
        },
        "id": "ag0AokhpmCj6",
        "outputId": "c1925740-a33e-4cff-8836-88c730095d2a"
      },
      "source": [
        "#cd to the folder where you put the pkl file and the hdf5 file\n",
        "%cd /content/drive/My Drive/MLHC/ecg-features/data/files"
      ],
      "execution_count": null,
      "outputs": [
        {
          "output_type": "stream",
          "name": "stdout",
          "text": [
            "/content/drive/My Drive/MLHC/ecg-features/data/files\n"
          ]
        }
      ]
    },
    {
      "cell_type": "code",
      "metadata": {
        "id": "vHiSeScKUAaC"
      },
      "source": [
        "# Common imports \n",
        "import os\n",
        "import numpy as np\n",
        "import pandas as pd\n",
        "#to unzip files: with ZipFile('sampleDir.zip', 'r') as zipObj: zipObj.extractall('temp')\n",
        "import zipfile as zp\n",
        "#Visualization\n",
        "import seaborn as sns\n",
        "import matplotlib.pyplot as plt"
      ],
      "execution_count": null,
      "outputs": []
    },
    {
      "cell_type": "code",
      "metadata": {
        "id": "Vlkuw63YcbKF"
      },
      "source": [
        "#gdown is useful to download files from public files in Google Drive. --id is the id of the file\n",
        "#!gdown --id 1j7Yk0-W9uonQiyyG2B9ZAw5jjZA-UeMS"
      ],
      "execution_count": null,
      "outputs": []
    },
    {
      "cell_type": "code",
      "metadata": {
        "id": "eKN22RMAAHfC"
      },
      "source": [
        "import pickle\n",
        "data_dict = pickle.load(open(\"challenge2017.pkl\",\"rb\"))"
      ],
      "execution_count": null,
      "outputs": []
    },
    {
      "cell_type": "code",
      "metadata": {
        "colab": {
          "base_uri": "https://localhost:8080/"
        },
        "id": "SvbltRQBCQe3",
        "outputId": "a93d9b85-8317-4fc8-fd7d-dd98085620c2"
      },
      "source": [
        "data_dict[\"data\"].shape"
      ],
      "execution_count": null,
      "outputs": [
        {
          "output_type": "execute_result",
          "data": {
            "text/plain": [
              "(8528,)"
            ]
          },
          "metadata": {},
          "execution_count": 4
        }
      ]
    },
    {
      "cell_type": "code",
      "metadata": {
        "colab": {
          "base_uri": "https://localhost:8080/"
        },
        "id": "JfqVJNGt_smj",
        "outputId": "ab28a5f4-c985-4975-aed8-b7d90245e02a"
      },
      "source": [
        "data = data_dict[\"data\"]\n",
        "labels = data_dict['label']\n",
        "df = pd.DataFrame(data,columns=[\"ts\"])\\\n",
        "      .assign(label = pd.Series(labels).replace({\"N\":\"0\",\"A\":\"1\",\"O\":\"2\",\"~\":\"3\"}))\n",
        "df['ts'][0].T.shape"
      ],
      "execution_count": null,
      "outputs": [
        {
          "output_type": "execute_result",
          "data": {
            "text/plain": [
              "(9000,)"
            ]
          },
          "metadata": {},
          "execution_count": 4
        }
      ]
    },
    {
      "cell_type": "code",
      "metadata": {
        "id": "O61wP6JEt2uU"
      },
      "source": [
        "#slide and cut\n",
        "X=df['ts']\n",
        "Y=df['label']\n",
        "window_size=6000\n",
        "stride=1000\n",
        "out_X=[]\n",
        "out_Y=[]\n",
        "out_pid=[]\n",
        "n_sample = X.shape[0]\n",
        "for i in range(n_sample):\n",
        "    tmp_ts = X[i]\n",
        "    tmp_Y = Y[i]\n",
        "    if tmp_Y == '0':\n",
        "        i_stride = stride\n",
        "        tmp_Y=0\n",
        "    elif tmp_Y == '1':\n",
        "        i_stride = stride//6\n",
        "        tmp_Y=1\n",
        "    elif tmp_Y == '2':\n",
        "        i_stride = stride//2\n",
        "        tmp_Y=2\n",
        "    elif tmp_Y == '3':\n",
        "        i_stride = stride//3\n",
        "        tmp_Y=3\n",
        "    for j in range(0, len(tmp_ts)-window_size, i_stride):\n",
        "        out_X.append(tmp_ts[j:j+window_size])\n",
        "        out_Y.append(tmp_Y)\n",
        "        out_pid.append(i)\n",
        "out_X1=np.array(out_X)\n",
        "out_Y1=np.array(out_Y)\n",
        "#out_pid1=np.array(out_pid)\n",
        "\n"
      ],
      "execution_count": null,
      "outputs": []
    },
    {
      "cell_type": "code",
      "metadata": {
        "id": "ixZ7f5Y6X-Pn"
      },
      "source": [
        "newdf=pd.DataFrame(columns=['ts','label'])\n",
        "newdf['ts']=out_X\n",
        "newdf['label']=out_Y"
      ],
      "execution_count": null,
      "outputs": []
    },
    {
      "cell_type": "code",
      "metadata": {
        "id": "NwBmdkYKfZ8D"
      },
      "source": [
        "#delete unused df to free the RAM\n",
        "del out_X1,out_Y1,out_X,out_Y"
      ],
      "execution_count": null,
      "outputs": []
    },
    {
      "cell_type": "code",
      "metadata": {
        "id": "GXiQqL5fYnl_"
      },
      "source": [
        "FS = 300\n",
        "maxlen = 30*FS\n",
        "\n",
        "def preprocessing(data):\n",
        "  #np.concatenate(df[\"ts\"]).ravel().tolist())\n",
        "  data = np.array([data])\n",
        "  X = np.zeros((1,maxlen)) #X.shape=(1,6000)\n",
        "  data = np.nan_to_num(data) # removing NaNs and Infs\n",
        "  data = data[0,0:maxlen]\n",
        "  data = data - np.mean(data)\n",
        "  data = data/np.std(data)\n",
        "  X[0,:len(data)] = data.T # padding sequence\n",
        "  data = X\n",
        "  data = np.expand_dims(data, axis=2) #data.shape=(1,9000) -> data.shape=(1,9000,1)\n",
        "  return data\n",
        "\n",
        "newdf['ts']=newdf['ts'].apply(lambda x: preprocessing(x))\n",
        "\n",
        "#out_X1_=out_X1.apply(lambda x: preprocessing(x))\n"
      ],
      "execution_count": null,
      "outputs": []
    },
    {
      "cell_type": "code",
      "metadata": {
        "id": "7hpPH_mpZOOj"
      },
      "source": [
        "from collections import Counter\n",
        "newX=np.asarray([r[0] for r in newdf['ts']])\n",
        "newY=newdf['label']\n",
        "Counter(newY)"
      ],
      "execution_count": null,
      "outputs": []
    },
    {
      "cell_type": "code",
      "metadata": {
        "id": "_wCzeFng8UH1"
      },
      "source": [
        "#delete unused df to free the RAM, otherwise Colab crashs\n",
        "del df\n",
        "del newdf\n"
      ],
      "execution_count": null,
      "outputs": []
    },
    {
      "cell_type": "code",
      "metadata": {
        "id": "XGCaGJ2rPn49"
      },
      "source": [
        "from sklearn.model_selection import train_test_split\n",
        "from sklearn.metrics import confusion_matrix\n",
        "from keras.utils.np_utils import to_categorical\n",
        "from keras.models import load_model\n",
        "from keras.callbacks import EarlyStopping, ModelCheckpoint, Callback\n",
        "import scipy.io"
      ],
      "execution_count": null,
      "outputs": []
    },
    {
      "cell_type": "code",
      "metadata": {
        "id": "nNp8RwtMCyLG",
        "colab": {
          "base_uri": "https://localhost:8080/"
        },
        "outputId": "26bc05d1-743c-4e02-b21f-436400e5eecd"
      },
      "source": [
        "model=load_model('ResNet_30s_34lay_16conv.hdf5')\n",
        "#model=load_model('weights-best.hdf5')\n",
        "X_train,X_test,y_train,y_test=train_test_split(newX,newY,test_size=0.2,shuffle=True)\n",
        "del newX\n",
        "del newY\n",
        "X_train,X_val,y_train,y_val=train_test_split(X_train,y_train,test_size=0.3,shuffle=True)\n",
        "y_train=to_categorical(y_train)\n",
        "y_train1=y_train\n",
        "y_test=to_categorical(y_test)\n",
        "y_val=to_categorical(y_val)\n",
        "callbacks = [\n",
        "                # Early stopping definition\n",
        "                EarlyStopping(monitor='val_loss', patience=3, verbose=1),           \n",
        "                # Saving best model\n",
        "                ModelCheckpoint('weights-best.hdf5', monitor='val_loss', save_best_only=True, verbose=1),\n",
        "                ]\n",
        "model.fit(X_train,y_train,validation_data=(X_val,y_val),epochs=25, batch_size=64,callbacks=callbacks)"
      ],
      "execution_count": null,
      "outputs": [
        {
          "output_type": "stream",
          "name": "stdout",
          "text": [
            "Epoch 1/5\n",
            "533/533 [==============================] - ETA: 0s - loss: 0.3303 - accuracy: 0.8724\n",
            "Epoch 00001: val_loss improved from inf to 0.31218, saving model to weights-best.hdf5\n"
          ]
        },
        {
          "output_type": "stream",
          "name": "stderr",
          "text": [
            "/usr/local/lib/python3.7/dist-packages/keras/engine/functional.py:1410: CustomMaskWarning: Custom mask layers require a config and must override get_config. When loading, the custom mask layer must be passed to the custom_objects argument.\n",
            "  layer_config = serialize_layer_fn(layer)\n"
          ]
        },
        {
          "output_type": "stream",
          "name": "stdout",
          "text": [
            "\b\b\b\b\b\b\b\b\b\b\b\b\b\b\b\b\b\b\b\b\b\b\b\b\b\b\b\b\b\b\b\b\b\b\b\b\b\b\b\b\b\b\b\b\b\b\b\b\b\b\b\b\b\b\b\b\b\b\b\b\b\b\b\b\b\b\b\b\b\b\b\b\b\b\b\b\b\b\b\b\b\b\b\b\r533/533 [==============================] - 241s 418ms/step - loss: 0.3303 - accuracy: 0.8724 - val_loss: 0.3122 - val_accuracy: 0.8844\n",
            "Epoch 2/5\n",
            "533/533 [==============================] - ETA: 0s - loss: 0.3203 - accuracy: 0.8776\n",
            "Epoch 00002: val_loss improved from 0.31218 to 0.30504, saving model to weights-best.hdf5\n",
            "533/533 [==============================] - 219s 412ms/step - loss: 0.3203 - accuracy: 0.8776 - val_loss: 0.3050 - val_accuracy: 0.8859\n",
            "Epoch 3/5\n",
            "533/533 [==============================] - ETA: 0s - loss: 0.3198 - accuracy: 0.8768\n",
            "Epoch 00003: val_loss improved from 0.30504 to 0.29013, saving model to weights-best.hdf5\n",
            "533/533 [==============================] - 220s 413ms/step - loss: 0.3198 - accuracy: 0.8768 - val_loss: 0.2901 - val_accuracy: 0.8925\n",
            "Epoch 4/5\n",
            "533/533 [==============================] - ETA: 0s - loss: 0.3117 - accuracy: 0.8796\n",
            "Epoch 00004: val_loss did not improve from 0.29013\n",
            "533/533 [==============================] - 238s 446ms/step - loss: 0.3117 - accuracy: 0.8796 - val_loss: 0.2999 - val_accuracy: 0.8847\n",
            "Epoch 5/5\n",
            "533/533 [==============================] - ETA: 0s - loss: 0.3049 - accuracy: 0.8830\n",
            "Epoch 00005: val_loss did not improve from 0.29013\n",
            "533/533 [==============================] - 219s 411ms/step - loss: 0.3049 - accuracy: 0.8830 - val_loss: 0.3022 - val_accuracy: 0.8895\n"
          ]
        },
        {
          "output_type": "execute_result",
          "data": {
            "text/plain": [
              "<keras.callbacks.History at 0x7f875e360a50>"
            ]
          },
          "metadata": {},
          "execution_count": 14
        }
      ]
    },
    {
      "cell_type": "code",
      "metadata": {
        "colab": {
          "base_uri": "https://localhost:8080/"
        },
        "id": "zey3Gd_O9UIl",
        "outputId": "cdc09548-7521-4c08-82f5-3bc4782cd540"
      },
      "source": [
        "import gc\n",
        "gc.collect()"
      ],
      "execution_count": null,
      "outputs": [
        {
          "output_type": "execute_result",
          "data": {
            "text/plain": [
              "43098"
            ]
          },
          "metadata": {},
          "execution_count": 35
        }
      ]
    },
    {
      "cell_type": "markdown",
      "metadata": {
        "id": "UNj4FYHYYZJQ"
      },
      "source": [
        "###Prediction"
      ]
    },
    {
      "cell_type": "code",
      "metadata": {
        "colab": {
          "base_uri": "https://localhost:8080/"
        },
        "id": "zr8IROF-ZhiO",
        "outputId": "87c955bc-551a-4a10-8e31-ce67f88dfaa4"
      },
      "source": [
        "%cd /content/drive/My Drive/MLHC/ecg-features/data/files"
      ],
      "execution_count": null,
      "outputs": [
        {
          "output_type": "stream",
          "name": "stdout",
          "text": [
            "/content/drive/My Drive/MLHC/ecg-features/data/files\n"
          ]
        }
      ]
    },
    {
      "cell_type": "code",
      "metadata": {
        "id": "0ktgqTliZjYo"
      },
      "source": [
        "data_dict = pickle.load(open(\"challenge2017.pkl\",\"rb\"))\n",
        "data = data_dict[\"data\"]\n",
        "labels = data_dict['label']\n",
        "df = pd.DataFrame(data,columns=[\"ts\"])\\\n",
        "      .assign(label = pd.Series(labels).replace({\"N\":'0',\"A\":'1',\"O\":'2',\"~\":'3'}))"
      ],
      "execution_count": null,
      "outputs": []
    },
    {
      "cell_type": "code",
      "metadata": {
        "id": "PVSKkgo-ZviM"
      },
      "source": [
        "FS = 300\n",
        "maxlen = 30*FS\n",
        "\n",
        "def preprocessing(data):\n",
        "  #np.concatenate(df[\"ts\"]).ravel().tolist())\n",
        "  data = np.array([data])\n",
        "  X = np.zeros((1,maxlen)) #X.shape=(1,9000)\n",
        "  data = np.nan_to_num(data) # removing NaNs and Infs\n",
        "  data = data[0,0:maxlen]\n",
        "  data = data - np.mean(data)\n",
        "  data = data/np.std(data)\n",
        "  X[0,:len(data)] = data.T # padding sequence X[0,:len(data)], len(data)<=9000\n",
        "  data = X\n",
        "  data = np.expand_dims(data, axis=2) #data.shape=(1,9000) -> data.shape=(1,9000,1)\n",
        "  return data\n",
        "\n",
        "df['ts']=df['ts'].apply(lambda x: preprocessing(x))\n",
        "\n",
        "#out_X1_=out_X1.apply(lambda x: preprocessing(x))"
      ],
      "execution_count": null,
      "outputs": []
    },
    {
      "cell_type": "code",
      "metadata": {
        "colab": {
          "base_uri": "https://localhost:8080/"
        },
        "id": "QmCmd_uWeqUG",
        "outputId": "a9140cc3-24a9-4c8d-a668-6387da804998"
      },
      "source": [
        "print(df['label'][0:5])\n",
        "to_categorical(df['label'])[0:5]"
      ],
      "execution_count": null,
      "outputs": [
        {
          "output_type": "stream",
          "name": "stdout",
          "text": [
            "0    0\n",
            "1    0\n",
            "2    0\n",
            "3    1\n",
            "4    1\n",
            "Name: label, dtype: object\n"
          ]
        },
        {
          "output_type": "execute_result",
          "data": {
            "text/plain": [
              "array([[1., 0., 0., 0.],\n",
              "       [1., 0., 0., 0.],\n",
              "       [1., 0., 0., 0.],\n",
              "       [0., 1., 0., 0.],\n",
              "       [0., 1., 0., 0.]], dtype=float32)"
            ]
          },
          "metadata": {},
          "execution_count": 21
        }
      ]
    },
    {
      "cell_type": "code",
      "metadata": {
        "id": "J1LHrTTjLhkr"
      },
      "source": [
        "from keras.models import load_model\n",
        "model = load_model('weights-best.hdf5')\n",
        "\n",
        "#classes = ['0','1','2','3']\n",
        "classes = ['Normal','AF','Other','Noise']\n",
        "confusion_matrix = {\n",
        "    '0': [0, 0, 0, 0],\n",
        "    '1': [0, 0, 0, 0],\n",
        "    '2': [0, 0, 0, 0],\n",
        "    '3': [0, 0, 0, 0]\n",
        "    \n",
        "}\n",
        "#res=[]\n",
        "for i in range(len(df)):   \n",
        "  prob = model.predict(df[\"ts\"][i])\n",
        "  ann = np.argmax(prob)\n",
        "  true_target = df[\"label\"][i]\n",
        "  #res.append((ann,true_target))\n",
        "  #print(true_target,ann)\n",
        "\n",
        "  confusion_matrix[true_target][ann] += 1\n",
        "\n",
        "  #print(\"Record {} classified as {} with {:3.1f}% certainty. True: {}\".format(i,classes[ann],100*prob[0,ann],df[\"label\"][i]))\n",
        "\n",
        "\n",
        "confusion_matrix = pd.DataFrame(confusion_matrix,index = classes)\n",
        "confusion_matrix.columns = [i + \" T\" for i in classes]\n",
        "print(confusion_matrix)"
      ],
      "execution_count": null,
      "outputs": []
    },
    {
      "cell_type": "code",
      "metadata": {
        "colab": {
          "base_uri": "https://localhost:8080/"
        },
        "id": "axzWQWWMxWGG",
        "outputId": "d2b4fce3-3fc0-47eb-93b6-447b3f95a272"
      },
      "source": [
        "accuracy = sum([confusion_matrix.iloc[i,i] for i in range(4)])/len(df)\n",
        "print(f\"Total accuracy of {round(accuracy*100,2)}%\")"
      ],
      "execution_count": null,
      "outputs": [
        {
          "output_type": "stream",
          "name": "stdout",
          "text": [
            "Total accuracy of 84.09%\n"
          ]
        }
      ]
    },
    {
      "cell_type": "code",
      "metadata": {
        "id": "z7M1P-LL_Wfi"
      },
      "source": [
        "!pip install streamlit"
      ],
      "execution_count": null,
      "outputs": []
    },
    {
      "cell_type": "code",
      "metadata": {
        "id": "bc-sefFs9V93"
      },
      "source": [
        "import streamlit as st\n",
        "import pandas as pd\n",
        "from sklearn import datasets\n",
        "from sklearn.ensemble import RandomForestClassifier\n",
        "\n",
        "st.write(\"\"\"\n",
        "# Simple Iris Flower Prediction App\n",
        "This app predicts the **Iris flower** type!\n",
        "\"\"\")\n",
        "\n",
        "st.sidebar.header('User Input Parameters')\n",
        "\n",
        "def user_input_features():\n",
        "    sepal_length = st.sidebar.slider('Sepal length', 4.3, 7.9, 5.4)\n",
        "    sepal_width = st.sidebar.slider('Sepal width', 2.0, 4.4, 3.4)\n",
        "    petal_length = st.sidebar.slider('Petal length', 1.0, 6.9, 1.3)\n",
        "    petal_width = st.sidebar.slider('Petal width', 0.1, 2.5, 0.2)\n",
        "    data = {'sepal_length': sepal_length,\n",
        "            'sepal_width': sepal_width,\n",
        "            'petal_length': petal_length,\n",
        "            'petal_width': petal_width}\n",
        "    features = pd.DataFrame(data, index=[0])\n",
        "    return features\n",
        "\n",
        "df = user_input_features()\n",
        "\n",
        "st.subheader('User Input parameters')\n",
        "st.write(df)\n",
        "\n",
        "iris = datasets.load_iris()\n",
        "X = iris.data\n",
        "Y = iris.target\n",
        "\n",
        "clf = RandomForestClassifier()\n",
        "clf.fit(X, Y)\n",
        "\n",
        "prediction = clf.predict(df)\n",
        "prediction_proba = clf.predict_proba(df)\n",
        "\n",
        "st.subheader('Class labels and their corresponding index number')\n",
        "st.write(iris.target_names)\n",
        "\n",
        "st.subheader('Prediction')\n",
        "st.write(iris.target_names[prediction])\n",
        "#st.write(prediction)\n",
        "\n",
        "st.subheader('Prediction Probability')\n",
        "st.write(prediction_proba)"
      ],
      "execution_count": null,
      "outputs": []
    }
  ]
}