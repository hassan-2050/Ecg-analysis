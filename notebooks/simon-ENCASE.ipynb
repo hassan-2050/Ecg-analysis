{
  "nbformat": 4,
  "nbformat_minor": 0,
  "metadata": {
    "colab": {
      "name": "simon-ENCASE.ipynb",
      "provenance": [],
      "collapsed_sections": [],
      "authorship_tag": "ABX9TyMBkeSCUFApLHcHGfkUedmJ",
      "include_colab_link": true
    },
    "kernelspec": {
      "name": "python3",
      "display_name": "Python 3"
    },
    "language_info": {
      "name": "python"
    }
  },
  "cells": [
    {
      "cell_type": "markdown",
      "metadata": {
        "id": "view-in-github",
        "colab_type": "text"
      },
      "source": [
        "<a href=\"https://colab.research.google.com/github/simonsanvil/ECG-classification-MLH/blob/master/notebooks/simon-ENCASE.ipynb\" target=\"_parent\"><img src=\"https://colab.research.google.com/assets/colab-badge.svg\" alt=\"Open In Colab\"/></a>"
      ]
    },
    {
      "cell_type": "code",
      "metadata": {
        "id": "Op2FaoYHdaVb"
      },
      "source": [
        "# IMPORTING REQUIRED LIBRARIES\n",
        "from google.colab import drive\n",
        "from collections import Counter\n",
        "from shutil import copyfile\n",
        "import matplotlib.pyplot as plt\n",
        "import pandas as pd\n",
        "import numpy as np\n",
        "import pickle\n",
        "import zipfile\n",
        "import os, sys\n",
        "\n",
        "%load_ext autoreload\n",
        "%matplotlib inline"
      ],
      "execution_count": 1,
      "outputs": []
    },
    {
      "cell_type": "code",
      "metadata": {
        "colab": {
          "base_uri": "https://localhost:8080/",
          "height": 504
        },
        "id": "_ri2_W7Zdbd7",
        "outputId": "e54e1f9f-5b4f-44c6-f4b3-1debc85519b7"
      },
      "source": [
        "# DOWNLOAD AND LOAD PREPROCESSED TRAINING DATA\n",
        "\n",
        "%cd /content\n",
        "\n",
        "!gdown --id 1j7Yk0-W9uonQiyyG2B9ZAw5jjZA-UeMS\n",
        "\n",
        "import pickle\n",
        "data_dict = pickle.load(open(\"challenge2017.pkl\",\"rb\"))\n",
        "data = data_dict[\"data\"]\n",
        "labels = data_dict['label']\n",
        "df = pd.DataFrame(data,columns=[\"ts\"])\\\n",
        "      .assign(label = pd.Series(labels))#.replace({\"N\":\"Normal\",\"A\":\"Atrial Fibrillation\",\"O\":\"Other Rhythm\",\"~\":\"Noise\"}))\n",
        "df"
      ],
      "execution_count": 2,
      "outputs": [
        {
          "output_type": "stream",
          "name": "stdout",
          "text": [
            "/content\n",
            "Downloading...\n",
            "From: https://drive.google.com/uc?id=1j7Yk0-W9uonQiyyG2B9ZAw5jjZA-UeMS\n",
            "To: /content/challenge2017.pkl\n",
            "100% 167M/167M [00:00<00:00, 180MB/s]\n"
          ]
        },
        {
          "output_type": "execute_result",
          "data": {
            "text/html": [
              "<div>\n",
              "<style scoped>\n",
              "    .dataframe tbody tr th:only-of-type {\n",
              "        vertical-align: middle;\n",
              "    }\n",
              "\n",
              "    .dataframe tbody tr th {\n",
              "        vertical-align: top;\n",
              "    }\n",
              "\n",
              "    .dataframe thead th {\n",
              "        text-align: right;\n",
              "    }\n",
              "</style>\n",
              "<table border=\"1\" class=\"dataframe\">\n",
              "  <thead>\n",
              "    <tr style=\"text-align: right;\">\n",
              "      <th></th>\n",
              "      <th>ts</th>\n",
              "      <th>label</th>\n",
              "    </tr>\n",
              "  </thead>\n",
              "  <tbody>\n",
              "    <tr>\n",
              "      <th>0</th>\n",
              "      <td>[-127, -162, -197, -229, -245, -254, -261, -26...</td>\n",
              "      <td>N</td>\n",
              "    </tr>\n",
              "    <tr>\n",
              "      <th>1</th>\n",
              "      <td>[128, 157, 189, 226, 250, 257, 262, 265, 268, ...</td>\n",
              "      <td>N</td>\n",
              "    </tr>\n",
              "    <tr>\n",
              "      <th>2</th>\n",
              "      <td>[56, 73, 85, 93, 100, 107, 113, 117, 118, 117,...</td>\n",
              "      <td>N</td>\n",
              "    </tr>\n",
              "    <tr>\n",
              "      <th>3</th>\n",
              "      <td>[519, 619, 723, 827, 914, 956, 955, 934, 920, ...</td>\n",
              "      <td>A</td>\n",
              "    </tr>\n",
              "    <tr>\n",
              "      <th>4</th>\n",
              "      <td>[-188, -239, -274, -316, -356, -374, -380, -38...</td>\n",
              "      <td>A</td>\n",
              "    </tr>\n",
              "    <tr>\n",
              "      <th>...</th>\n",
              "      <td>...</td>\n",
              "      <td>...</td>\n",
              "    </tr>\n",
              "    <tr>\n",
              "      <th>8523</th>\n",
              "      <td>[-104, -127, -144, -154, -160, -164, -168, -17...</td>\n",
              "      <td>N</td>\n",
              "    </tr>\n",
              "    <tr>\n",
              "      <th>8524</th>\n",
              "      <td>[-121, -197, -288, -390, -496, -600, -693, -77...</td>\n",
              "      <td>O</td>\n",
              "    </tr>\n",
              "    <tr>\n",
              "      <th>8525</th>\n",
              "      <td>[-202, -235, -272, -305, -325, -339, -344, -34...</td>\n",
              "      <td>N</td>\n",
              "    </tr>\n",
              "    <tr>\n",
              "      <th>8526</th>\n",
              "      <td>[-227, -297, -374, -449, -505, -527, -539, -54...</td>\n",
              "      <td>N</td>\n",
              "    </tr>\n",
              "    <tr>\n",
              "      <th>8527</th>\n",
              "      <td>[-237, -286, -338, -390, -425, -437, -443, -44...</td>\n",
              "      <td>N</td>\n",
              "    </tr>\n",
              "  </tbody>\n",
              "</table>\n",
              "<p>8528 rows × 2 columns</p>\n",
              "</div>"
            ],
            "text/plain": [
              "                                                     ts label\n",
              "0     [-127, -162, -197, -229, -245, -254, -261, -26...     N\n",
              "1     [128, 157, 189, 226, 250, 257, 262, 265, 268, ...     N\n",
              "2     [56, 73, 85, 93, 100, 107, 113, 117, 118, 117,...     N\n",
              "3     [519, 619, 723, 827, 914, 956, 955, 934, 920, ...     A\n",
              "4     [-188, -239, -274, -316, -356, -374, -380, -38...     A\n",
              "...                                                 ...   ...\n",
              "8523  [-104, -127, -144, -154, -160, -164, -168, -17...     N\n",
              "8524  [-121, -197, -288, -390, -496, -600, -693, -77...     O\n",
              "8525  [-202, -235, -272, -305, -325, -339, -344, -34...     N\n",
              "8526  [-227, -297, -374, -449, -505, -527, -539, -54...     N\n",
              "8527  [-237, -286, -338, -390, -425, -437, -443, -44...     N\n",
              "\n",
              "[8528 rows x 2 columns]"
            ]
          },
          "metadata": {},
          "execution_count": 2
        }
      ]
    },
    {
      "cell_type": "code",
      "metadata": {
        "colab": {
          "base_uri": "https://localhost:8080/"
        },
        "id": "Hiq53wE_ddkO",
        "outputId": "7abe2f4f-96d7-457b-cf18-ed2992331a0b"
      },
      "source": [
        "df.label.value_counts()"
      ],
      "execution_count": 3,
      "outputs": [
        {
          "output_type": "execute_result",
          "data": {
            "text/plain": [
              "N    5076\n",
              "O    2415\n",
              "A     758\n",
              "~     279\n",
              "Name: label, dtype: int64"
            ]
          },
          "metadata": {},
          "execution_count": 3
        }
      ]
    },
    {
      "cell_type": "code",
      "metadata": {
        "colab": {
          "base_uri": "https://localhost:8080/"
        },
        "id": "2BkIQuWidgr2",
        "outputId": "abfa2799-ca99-46ef-f733-0b48c871c424"
      },
      "source": [
        "# Download the repository of the model\n",
        "%cd /content/\n",
        "!git clone https://github.com/hsd1503/ENCASE\n",
        "\n",
        "%cd /content/ENCASE/\n",
        "!bash setup.sh\n",
        "\n",
        "sys.path.append(\"/content/ENCASE/code\")\n",
        "\n",
        "# edit files that have dependency errors\n",
        "%aimport -FeatureExtract -preprocess_data -dill\n",
        "%autoreload 1 \n",
        "\n",
        "with open(\"code/FeatureExtract.py\",\"r+\") as f:\n",
        "  lines = f.readlines()\n",
        "lines[22] = \"#from BasicCLF import MyXGB\\n\"\n",
        "lines[23] = \"#from BasicCLF import MyLR\\n\"\n",
        "lines[24] = \"#from BasicCLF import MyRF\\n\"\n",
        "with open(\"code/FeatureExtract.py\",\"w+\") as f:\n",
        "  f.writelines(lines)\n",
        "\n",
        "with open(\"code/preprocess_data.py\",\"r+\") as f:\n",
        "  lines = f.readlines()\n",
        "lines[11] = \"#import hickle\\n\"\n",
        "with open(\"code/preprocess_data.py\",\"w+\") as f:\n",
        "  f.writelines(lines)\n",
        "\n",
        "# make code/ a module\n",
        "with open(\"code/__init__.py\",\"w\"):\n",
        "  pass\n",
        "\n",
        "%aimport code"
      ],
      "execution_count": 4,
      "outputs": [
        {
          "output_type": "stream",
          "name": "stdout",
          "text": [
            "/content\n",
            "fatal: destination path 'ENCASE' already exists and is not an empty directory.\n",
            "/content/ENCASE\n",
            "Processing ./dill-0.2.6.zip\n",
            "Building wheels for collected packages: dill\n",
            "  Building wheel for dill (setup.py) ... \u001b[?25l\u001b[?25hdone\n",
            "  Created wheel for dill: filename=dill-0.2.6-py3-none-any.whl size=53713 sha256=42e1c959d7aa16ec6c597740576824fd6e6865cc1baf77667a51043a10d67f55\n",
            "  Stored in directory: /root/.cache/pip/wheels/9e/04/38/7888edb9723f1a1689c9b6b5e1741ce93a9c237b1116ba3944\n",
            "Successfully built dill\n",
            "Installing collected packages: dill\n",
            "  Attempting uninstall: dill\n",
            "    Found existing installation: dill 0.2.6\n",
            "    Uninstalling dill-0.2.6:\n",
            "      Successfully uninstalled dill-0.2.6\n",
            "\u001b[31mERROR: pip's dependency resolver does not currently take into account all the packages that are installed. This behaviour is the source of the following dependency conflicts.\n",
            "multiprocess 0.70.12.2 requires dill>=0.3.4, but you have dill 0.2.6 which is incompatible.\u001b[0m\n",
            "Successfully installed dill-0.2.6\n"
          ]
        }
      ]
    },
    {
      "cell_type": "code",
      "metadata": {
        "colab": {
          "base_uri": "https://localhost:8080/"
        },
        "id": "1_CJrWSFdk9b",
        "outputId": "67a2a5b3-38f2-43d8-bdcb-da0b2ded5c02"
      },
      "source": [
        "with open('model/v2.5_xgb5_all_v2.pkl', 'rb') as f:\n",
        "  model = pickle.load(f)\n",
        "model"
      ],
      "execution_count": 5,
      "outputs": [
        {
          "output_type": "execute_result",
          "data": {
            "text/plain": [
              "<Encase.Encase at 0x7faa62c40d90>"
            ]
          },
          "metadata": {},
          "execution_count": 5
        }
      ]
    },
    {
      "cell_type": "code",
      "metadata": {
        "id": "ZNtPCZG-dmWu"
      },
      "source": [
        "# model.predict(df[\"ts\"].to_numpy()[0])"
      ],
      "execution_count": null,
      "outputs": []
    }
  ]
}